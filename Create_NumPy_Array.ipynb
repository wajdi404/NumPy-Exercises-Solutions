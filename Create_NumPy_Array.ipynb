{
  "cells": [
    {
      "cell_type": "markdown",
      "metadata": {
        "id": "view-in-github",
        "colab_type": "text"
      },
      "source": [
        "<a href=\"https://colab.research.google.com/github/wajdi404/NumPy-Exercises-Solutions/blob/main/Create_NumPy_Array.ipynb\" target=\"_parent\"><img src=\"https://colab.research.google.com/assets/colab-badge.svg\" alt=\"Open In Colab\"/></a>"
      ]
    },
    {
      "cell_type": "code",
      "execution_count": null,
      "metadata": {
        "colab": {
          "background_save": true,
          "base_uri": "https://localhost:8080/",
          "height": 35
        },
        "id": "-gSZOQ_hyg6A",
        "outputId": "e44801c3-37a2-45a6-d1b4-0fc3e2a56f45"
      },
      "outputs": [
        {
          "data": {
            "application/vnd.google.colaboratory.intrinsic+json": {
              "type": "string"
            },
            "text/plain": [
              "'1.21.6'"
            ]
          },
          "execution_count": 131,
          "metadata": {},
          "output_type": "execute_result"
        }
      ],
      "source": [
        "import numpy as np\n",
        "np.__version__"
      ]
    },
    {
      "cell_type": "markdown",
      "metadata": {
        "id": "FrCz7gwG0WB8"
      },
      "source": [
        "**There are 6 general mechanisms for creating Numpy arrays:**\n",
        "\n",
        "1. Conversion from other Python structures (i.e. lists and tuples)\n",
        "2. Intrinsic NumPy array creation functions (e.g. arange, ones, zeros, etc.)\n",
        "3. Replicating, joining, or mutating existing arrays\n",
        "4. Reading arrays from disk, either from standard or custom formats\n",
        "5. Creating arrays from raw bytes through the use of strings or buffers\n",
        "6. Use of special library functions (e.g., random)\n"
      ]
    },
    {
      "cell_type": "markdown",
      "metadata": {
        "id": "T_kZj1AbzKW9"
      },
      "source": [
        "### **1. From Python structures to NumPy Arrays**\n",
        "\n",
        "\n",
        "---\n",
        "\n"
      ]
    },
    {
      "cell_type": "code",
      "execution_count": null,
      "metadata": {
        "colab": {
          "base_uri": "https://localhost:8080/"
        },
        "id": "C4mhPuWmzJtz",
        "outputId": "cd5265f2-5e15-421a-b56a-f4568911052f"
      },
      "outputs": [
        {
          "name": "stdout",
          "output_type": "stream",
          "text": [
            "int64\n",
            "(4,)\n",
            "[1 2 3 4]\n"
          ]
        }
      ],
      "source": [
        "Arr_1D = np.array( [1, 2, 3, 4] )\n",
        "print( Arr_1D.dtype )\n",
        "print( Arr_1D.shape )\n",
        "print( Arr_1D )"
      ]
    },
    {
      "cell_type": "code",
      "execution_count": null,
      "metadata": {
        "colab": {
          "base_uri": "https://localhost:8080/"
        },
        "id": "ZjoWoszp2Ffp",
        "outputId": "7055f37f-4399-4536-91fc-1e2b67dec601"
      },
      "outputs": [
        {
          "name": "stdout",
          "output_type": "stream",
          "text": [
            "float64\n",
            "(2, 2)\n",
            "[[1. 2.]\n",
            " [3. 4.]]\n"
          ]
        }
      ],
      "source": [
        "Arr_2D = np.array( [[1, 2], [3.0, 4]], )\n",
        "print( Arr_2D.dtype )\n",
        "print( Arr_2D.shape )\n",
        "print( Arr_2D )"
      ]
    },
    {
      "cell_type": "code",
      "execution_count": null,
      "metadata": {
        "colab": {
          "base_uri": "https://localhost:8080/"
        },
        "id": "eMnxTzCH2KvA",
        "outputId": "55eb42e5-0d7f-4d90-8d6b-9bc1808b4e71"
      },
      "outputs": [
        {
          "name": "stdout",
          "output_type": "stream",
          "text": [
            "int8\n",
            "(2, 2, 2)\n",
            "[[[1 2]\n",
            "  [3 4]]\n",
            "\n",
            " [[5 6]\n",
            "  [7 8]]]\n"
          ]
        }
      ],
      "source": [
        "Arr_3D = np.array( [[[1, 2], [3, 4]], [[5, 6], [7, 8]]], dtype=np.int8 )\n",
        "print( Arr_3D.dtype )\n",
        "print( Arr_3D.shape )\n",
        "print( Arr_3D )"
      ]
    },
    {
      "cell_type": "code",
      "execution_count": null,
      "metadata": {
        "colab": {
          "base_uri": "https://localhost:8080/"
        },
        "id": "SE-73mop5Rrn",
        "outputId": "90be33d7-ebea-4474-ec92-fd7c4802372c"
      },
      "outputs": [
        {
          "name": "stdout",
          "output_type": "stream",
          "text": [
            "complex128\n",
            "(4,)\n",
            "[1.+0.j 2.+0.j 3.+0.j 4.+0.j]\n"
          ]
        }
      ],
      "source": [
        "Arr_1D = np.array( [1, 2, 3, 4], dtype=complex)\n",
        "print( Arr_1D.dtype )\n",
        "print( Arr_1D.shape )\n",
        "print( Arr_1D )"
      ]
    },
    {
      "cell_type": "code",
      "execution_count": null,
      "metadata": {
        "colab": {
          "base_uri": "https://localhost:8080/"
        },
        "id": "DvlN9gqh7f8i",
        "outputId": "494942e0-b810-4f2f-8393-3b271d637529"
      },
      "outputs": [
        {
          "name": "stdout",
          "output_type": "stream",
          "text": [
            "(3,)\n",
            "int8\n",
            "[ 127 -128 -127]\n"
          ]
        }
      ],
      "source": [
        "# When you use numpy.array to define a new array, you should consider \n",
        "# the dtype of the elements in the array, which can be specified explicitly.\n",
        "# If you are not careful with dtype assignments, you can get unwanted overflow, as such\n",
        "\n",
        "a = np.array( [127, 128, 129], dtype=np.int8) # An 8-bit signed integer represents integers from -128 to 127\n",
        "print(a.shape)\n",
        "print(a.dtype)\n",
        "print(a)"
      ]
    },
    {
      "cell_type": "code",
      "execution_count": null,
      "metadata": {
        "colab": {
          "base_uri": "https://localhost:8080/"
        },
        "id": "jw23e8kS6zys",
        "outputId": "88040c9c-c299-4a2e-d4da-6f814349d8ac"
      },
      "outputs": [
        {
          "name": "stdout",
          "output_type": "stream",
          "text": [
            "(3,)\n",
            "int16\n",
            "[-3 -3 -3]\n"
          ]
        }
      ],
      "source": [
        "a = np.array( ( 2, 3, 4), dtype=np.uint8)\n",
        "b = np.array( ( 5, 6, 7), dtype=np.uint8)\n",
        "c = a - b.astype(np.int8)\n",
        "print(c.shape)\n",
        "print(c.dtype)\n",
        "print(c)"
      ]
    },
    {
      "cell_type": "markdown",
      "metadata": {
        "id": "Cvt5-JBX2n7X"
      },
      "source": [
        "### **2. Intrinsic NumPy array creation functions**\n",
        "\n",
        "\n",
        "---\n",
        "\n",
        "\n",
        "<p align=\"justify\">\n",
        "NumPy has over 40 built-in functions for creating arrays. These functions can be split into roughly three categories, based on the dimension of the array they create:\n",
        "<p>"
      ]
    },
    {
      "cell_type": "markdown",
      "source": [
        "#### **Buit-in Function for Creating 1D Arrays**"
      ],
      "metadata": {
        "id": "Mcmy-2TZmcRX"
      }
    },
    {
      "cell_type": "code",
      "execution_count": null,
      "metadata": {
        "colab": {
          "base_uri": "https://localhost:8080/"
        },
        "id": "6Yt42oPUI-0U",
        "outputId": "3e4d891b-dfcf-4794-cda2-1483846ba99a"
      },
      "outputs": [
        {
          "name": "stdout",
          "output_type": "stream",
          "text": [
            "float64\n",
            "(10,)\n",
            "[0. 1. 2. 3. 4. 5. 6. 7. 8. 9.]\n"
          ]
        }
      ],
      "source": [
        "# linspace( start, stop, num=50, endpoint=True, retstep=False, dtype=None, axis=0)\n",
        "a = np.linspace( start=0, stop=10, num=10, endpoint=False)\n",
        "print(a.dtype)\n",
        "print(a.shape)\n",
        "print(a)"
      ]
    },
    {
      "cell_type": "code",
      "execution_count": null,
      "metadata": {
        "colab": {
          "base_uri": "https://localhost:8080/"
        },
        "id": "lizRC69bNrYn",
        "outputId": "84ee9046-0da0-46df-e4e1-3079b5f3d1ce"
      },
      "outputs": [
        {
          "name": "stdout",
          "output_type": "stream",
          "text": [
            "int64\n",
            "(array([ 0,  1,  2,  3,  4,  5,  6,  7,  8, 10]), 1.1111111111111112)\n"
          ]
        }
      ],
      "source": [
        "b = np.linspace( start=0, stop=10, num=10, retstep=True, dtype=np.int64)\n",
        "print(b[0].dtype)\n",
        "print(b)"
      ]
    },
    {
      "cell_type": "code",
      "execution_count": null,
      "metadata": {
        "colab": {
          "base_uri": "https://localhost:8080/"
        },
        "id": "g5fpLKXXzb1-",
        "outputId": "a0354e27-29ef-43fa-e6c2-b633b55f9354"
      },
      "outputs": [
        {
          "name": "stdout",
          "output_type": "stream",
          "text": [
            "int64\n",
            "[0 1 2 3 4 5 6 7 8 9]\n"
          ]
        }
      ],
      "source": [
        "# np.arange( [start, ] stop, [step, ] dtype=None, *, like=None)\n",
        "# Similar to linspace, but uses a step size (instead of the number of samples).\n",
        "a = np.arange( stop=10)\n",
        "print(a.dtype)\n",
        "print(a)"
      ]
    },
    {
      "cell_type": "code",
      "execution_count": null,
      "metadata": {
        "colab": {
          "base_uri": "https://localhost:8080/"
        },
        "id": "w6hcF7VCKiPP",
        "outputId": "2279454e-e4e2-48a8-8dde-7e5b272d3060"
      },
      "outputs": [
        {
          "name": "stdout",
          "output_type": "stream",
          "text": [
            "[2. 3. 4. 5. 6. 7. 8. 9.]\n",
            "float64\n"
          ]
        }
      ],
      "source": [
        "b = np.arange( start=2, stop=10, dtype=float)\n",
        "print(b)\n",
        "print(b.dtype)"
      ]
    },
    {
      "cell_type": "code",
      "execution_count": null,
      "metadata": {
        "colab": {
          "base_uri": "https://localhost:8080/"
        },
        "id": "YDul3I73Kwlv",
        "outputId": "62e57aeb-451e-4e1e-8d2f-b2642e94ddad"
      },
      "outputs": [
        {
          "name": "stdout",
          "output_type": "stream",
          "text": [
            "float64\n",
            "(10,)\n",
            "[2.  2.1 2.2 2.3 2.4 2.5 2.6 2.7 2.8 2.9]\n"
          ]
        }
      ],
      "source": [
        "c = np.arange( start=2, stop=3, step=0.1)\n",
        "print(c.dtype)\n",
        "print(c.shape) # Length of result is ceil((stop - start)/step)\n",
        "print(c)"
      ]
    },
    {
      "cell_type": "code",
      "execution_count": null,
      "metadata": {
        "colab": {
          "base_uri": "https://localhost:8080/"
        },
        "id": "OX2pbl2uPRK_",
        "outputId": "5de05d54-054f-49b0-dd79-15c128409f96"
      },
      "outputs": [
        {
          "name": "stdout",
          "output_type": "stream",
          "text": [
            "int64\n",
            "[   1    2    4    8   16   32   64  128  256  512 1024]\n"
          ]
        }
      ],
      "source": [
        "# geomspace( start, stop, num=50, endpoint=True, dtype=None, axis=0)\n",
        "# Similar to linspace, but with numbers spaced evenly on a log scale (a geometric progression).\n",
        "a = np.around(np.geomspace( start=1, stop=1024, num=11)).astype(\"int64\")\n",
        "print(a.dtype)\n",
        "print(a)"
      ]
    },
    {
      "cell_type": "code",
      "execution_count": null,
      "metadata": {
        "colab": {
          "base_uri": "https://localhost:8080/"
        },
        "id": "0fLa6-MEZaEL",
        "outputId": "b4de6b2d-8a4a-4d15-aace-6d36ddc03a76"
      },
      "outputs": [
        {
          "name": "stdout",
          "output_type": "stream",
          "text": [
            "float64\n",
            "[   2.    4.    8.   16.   32.   64.  128.  256.  512. 1024.]\n"
          ]
        }
      ],
      "source": [
        "# logspace(start, stop, num=50, endpoint=True, base=10.0, dtype=None, axis=0)\n",
        "# Return numbers spaced evenly on a log scale.\n",
        "a = np.logspace( start=1, stop=10, num=10, base=2)\n",
        "print(a.dtype)\n",
        "print(a)"
      ]
    },
    {
      "cell_type": "markdown",
      "source": [
        "#### **Buit-in Function for Creating 2D Arrays**"
      ],
      "metadata": {
        "id": "qG6WIIQvmaos"
      }
    },
    {
      "cell_type": "code",
      "source": [
        "# np.eye(N, M=None, k=0, dtype=<class 'float'>, order='C', *, like=None)\n",
        "# Return a 2-D array with ones on the diagonal and zeros elsewhere.\n"
      ],
      "metadata": {
        "id": "6bsxvBmEnRgb"
      },
      "execution_count": null,
      "outputs": []
    },
    {
      "cell_type": "code",
      "source": [
        "# np.identity(n, dtype=None, *, like=None)\n",
        "# Return the identity array, which is a square array with ones on main diagonal.\n",
        "\n"
      ],
      "metadata": {
        "id": "SOdB4OJwnWXG"
      },
      "execution_count": null,
      "outputs": []
    },
    {
      "cell_type": "code",
      "source": [
        "# np.diag( v, k=0)\n",
        "# Extract a diagonal or construct a diagonal array.\n",
        "\n",
        "a = np.array( [ [0, 1, 2], [3, 4, 5], [6, 7, 8] ] )\n",
        "print(np.diag(a, k=0))\n",
        "print(np.diag(a, k=1))\n",
        "print(np.diag(a, k=-1))\n",
        "print(np.diag( np.diag(a) ))"
      ],
      "metadata": {
        "id": "pfpZbMrxoKs8"
      },
      "execution_count": null,
      "outputs": []
    },
    {
      "cell_type": "code",
      "source": [
        "#  np.diagflat( v, k=0)\n",
        "# Create a two-dimensional array with the flattened input as a diagonal.\n",
        "print( np.diagflat( [ [1,2], [3,4] ], k=0 ) )\n",
        "print( np.diagflat( [ 1, 2], k=-1 ) )"
      ],
      "metadata": {
        "id": "n2XCXUV7o5u3"
      },
      "execution_count": null,
      "outputs": []
    },
    {
      "cell_type": "code",
      "source": [
        "#  np.tri( N, M=None, k=0, dtype=<class 'float'>, *, like=None)\n",
        "# Return an array with ones at and below the given diagonal and zeros elsewhere.\n",
        "print( np.tri( N=3, M=5, k=2, dtype=int) )\n",
        "print( np.tri( N)3, M=5, k=-1) )"
      ],
      "metadata": {
        "id": "WYTl7qp8pUw2"
      },
      "execution_count": null,
      "outputs": []
    },
    {
      "cell_type": "code",
      "source": [
        "#  np.tril( m, k=0)\n",
        "# Return the lower triangle of an array m\n",
        "print(np.tril( m=[[1,2,3], [4,5,6], [7,8,9], [10,11,12] ])) "
      ],
      "metadata": {
        "id": "4Xq3dqGwqL6a"
      },
      "execution_count": null,
      "outputs": []
    },
    {
      "cell_type": "code",
      "source": [
        "# np.triu( m, k=0)\n",
        "# Return the upper triangle of an array m\n",
        "print(np.triu( m=[[1,2,3], [4,5,6], [7,8,9], [10,11,12] ]))"
      ],
      "metadata": {
        "id": "VwgIQ4y1qeZD"
      },
      "execution_count": null,
      "outputs": []
    },
    {
      "cell_type": "code",
      "source": [
        "# np.vander( x, N=None, increasing=False)\n",
        "# Generate a Vandermonde matrix.\n",
        "x = np.array([1, 2, 3, 5])\n",
        "print(np.vander( x, N=3))"
      ],
      "metadata": {
        "id": "Q-VsYtYFq041"
      },
      "execution_count": null,
      "outputs": []
    },
    {
      "cell_type": "markdown",
      "source": [
        "#### **Buit-in Function for Creating nD Arrays**"
      ],
      "metadata": {
        "id": "8u9Owiolravr"
      }
    },
    {
      "cell_type": "code",
      "execution_count": null,
      "metadata": {
        "id": "HGIImsQGzfvb"
      },
      "outputs": [],
      "source": [
        "np.ones()"
      ]
    },
    {
      "cell_type": "code",
      "execution_count": null,
      "metadata": {
        "id": "mSForqxzzixx"
      },
      "outputs": [],
      "source": [
        "np.empty()"
      ]
    },
    {
      "cell_type": "code",
      "execution_count": null,
      "metadata": {
        "id": "k5zSG-lkzlTX"
      },
      "outputs": [],
      "source": [
        "np.arange()"
      ]
    },
    {
      "cell_type": "code",
      "execution_count": null,
      "metadata": {
        "id": "XeB66wfhznhJ"
      },
      "outputs": [],
      "source": [
        "np.linspace()"
      ]
    },
    {
      "cell_type": "markdown",
      "source": [
        "### **3. Replicating, joining, or mutating existing arrays**\n",
        "\n",
        "\n",
        "---\n",
        "\n",
        "\n",
        "<p align=\"justify\">\n",
        "\n",
        "<p>"
      ],
      "metadata": {
        "id": "-wR7eOPGrmED"
      }
    }
  ],
  "metadata": {
    "colab": {
      "provenance": [],
      "collapsed_sections": [],
      "authorship_tag": "ABX9TyNTIvxEmdeiUS1iwsbaQVkc",
      "include_colab_link": true
    },
    "kernelspec": {
      "display_name": "Python 3",
      "name": "python3"
    },
    "language_info": {
      "name": "python"
    }
  },
  "nbformat": 4,
  "nbformat_minor": 0
}