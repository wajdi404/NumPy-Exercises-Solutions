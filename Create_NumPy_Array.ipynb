{
  "nbformat": 4,
  "nbformat_minor": 0,
  "metadata": {
    "colab": {
      "provenance": [],
      "authorship_tag": "ABX9TyPBhkxS+qnRjECPwp2jGHRC",
      "include_colab_link": true
    },
    "kernelspec": {
      "name": "python3",
      "display_name": "Python 3"
    },
    "language_info": {
      "name": "python"
    }
  },
  "cells": [
    {
      "cell_type": "markdown",
      "metadata": {
        "id": "view-in-github",
        "colab_type": "text"
      },
      "source": [
        "<a href=\"https://colab.research.google.com/github/wajdi404/NumPy-Exercises-Solutions/blob/main/Create_NumPy_Array.ipynb\" target=\"_parent\"><img src=\"https://colab.research.google.com/assets/colab-badge.svg\" alt=\"Open In Colab\"/></a>"
      ]
    },
    {
      "cell_type": "code",
      "execution_count": 2,
      "metadata": {
        "colab": {
          "base_uri": "https://localhost:8080/",
          "height": 35
        },
        "id": "-gSZOQ_hyg6A",
        "outputId": "68399e8b-6871-4b0e-e330-2ce9dee06c56"
      },
      "outputs": [
        {
          "output_type": "execute_result",
          "data": {
            "text/plain": [
              "'1.21.6'"
            ],
            "application/vnd.google.colaboratory.intrinsic+json": {
              "type": "string"
            }
          },
          "metadata": {},
          "execution_count": 2
        }
      ],
      "source": [
        "import numpy as np\n",
        "np.__version__"
      ]
    },
    {
      "cell_type": "markdown",
      "source": [
        "**There are 6 general mechanisms for creating Numpy arrays:**\n",
        "\n",
        "1. Conversion from other Python structures (i.e. lists and tuples)\n",
        "2. Intrinsic NumPy array creation functions (e.g. arange, ones, zeros, etc.)\n",
        "3. Replicating, joining, or mutating existing arrays\n",
        "4. Reading arrays from disk, either from standard or custom formats\n",
        "5. Creating arrays from raw bytes through the use of strings or buffers\n",
        "6. Use of special library functions (e.g., random)\n"
      ],
      "metadata": {
        "id": "FrCz7gwG0WB8"
      }
    },
    {
      "cell_type": "markdown",
      "source": [
        "### 1. From Python structures to NumPy Arrays "
      ],
      "metadata": {
        "id": "T_kZj1AbzKW9"
      }
    },
    {
      "cell_type": "code",
      "source": [
        "Arr_1D = np.array( [1, 2, 3, 4] )\n",
        "print( Arr_1D.dtype )\n",
        "print( Arr_1D.shape )\n",
        "print( Arr_1D )"
      ],
      "metadata": {
        "colab": {
          "base_uri": "https://localhost:8080/"
        },
        "id": "C4mhPuWmzJtz",
        "outputId": "cd5265f2-5e15-421a-b56a-f4568911052f"
      },
      "execution_count": 15,
      "outputs": [
        {
          "output_type": "stream",
          "name": "stdout",
          "text": [
            "int64\n",
            "(4,)\n",
            "[1 2 3 4]\n"
          ]
        }
      ]
    },
    {
      "cell_type": "code",
      "source": [
        "Arr_2D = np.array( [[1, 2], [3.0, 4]], )\n",
        "print( Arr_2D.dtype )\n",
        "print( Arr_2D.shape )\n",
        "print( Arr_2D )"
      ],
      "metadata": {
        "colab": {
          "base_uri": "https://localhost:8080/"
        },
        "id": "ZjoWoszp2Ffp",
        "outputId": "7055f37f-4399-4536-91fc-1e2b67dec601"
      },
      "execution_count": 16,
      "outputs": [
        {
          "output_type": "stream",
          "name": "stdout",
          "text": [
            "float64\n",
            "(2, 2)\n",
            "[[1. 2.]\n",
            " [3. 4.]]\n"
          ]
        }
      ]
    },
    {
      "cell_type": "code",
      "source": [
        "Arr_3D = np.array( [[[1, 2], [3, 4]], [[5, 6], [7, 8]]], dtype=np.int8 )\n",
        "print( Arr_3D.dtype )\n",
        "print( Arr_3D.shape )\n",
        "print( Arr_3D )"
      ],
      "metadata": {
        "colab": {
          "base_uri": "https://localhost:8080/"
        },
        "id": "eMnxTzCH2KvA",
        "outputId": "55eb42e5-0d7f-4d90-8d6b-9bc1808b4e71"
      },
      "execution_count": 17,
      "outputs": [
        {
          "output_type": "stream",
          "name": "stdout",
          "text": [
            "int8\n",
            "(2, 2, 2)\n",
            "[[[1 2]\n",
            "  [3 4]]\n",
            "\n",
            " [[5 6]\n",
            "  [7 8]]]\n"
          ]
        }
      ]
    },
    {
      "cell_type": "code",
      "source": [
        "Arr_1D = np.array( [1, 2, 3, 4], dtype=complex)\n",
        "print( Arr_1D.dtype )\n",
        "print( Arr_1D.shape )\n",
        "print( Arr_1D )"
      ],
      "metadata": {
        "colab": {
          "base_uri": "https://localhost:8080/"
        },
        "id": "SE-73mop5Rrn",
        "outputId": "90be33d7-ebea-4474-ec92-fd7c4802372c"
      },
      "execution_count": 31,
      "outputs": [
        {
          "output_type": "stream",
          "name": "stdout",
          "text": [
            "complex128\n",
            "(4,)\n",
            "[1.+0.j 2.+0.j 3.+0.j 4.+0.j]\n"
          ]
        }
      ]
    },
    {
      "cell_type": "code",
      "source": [
        "# When you use numpy.array to define a new array, you should consider \n",
        "# the dtype of the elements in the array, which can be specified explicitly.\n",
        "# If you are not careful with dtype assignments, you can get unwanted overflow, as such\n",
        "\n",
        "a = np.array([127, 128, 129], dtype=np.int8) # An 8-bit signed integer represents integers from -128 to 127\n",
        "print(a.shape)\n",
        "print(a.dtype)\n",
        "print(a)"
      ],
      "metadata": {
        "colab": {
          "base_uri": "https://localhost:8080/"
        },
        "id": "DvlN9gqh7f8i",
        "outputId": "494942e0-b810-4f2f-8393-3b271d637529"
      },
      "execution_count": 41,
      "outputs": [
        {
          "output_type": "stream",
          "name": "stdout",
          "text": [
            "(3,)\n",
            "int8\n",
            "[ 127 -128 -127]\n"
          ]
        }
      ]
    },
    {
      "cell_type": "code",
      "source": [
        "a = np.array([ 2, 3, 4], dtype=np.uint8)\n",
        "b = np.array([ 5, 6, 7], dtype=np.uint8)\n",
        "c = a - b.astype(np.int8)\n",
        "print(c.shape)\n",
        "print(c.dtype)\n",
        "print(c)"
      ],
      "metadata": {
        "colab": {
          "base_uri": "https://localhost:8080/"
        },
        "id": "jw23e8kS6zys",
        "outputId": "88040c9c-c299-4a2e-d4da-6f814349d8ac"
      },
      "execution_count": 42,
      "outputs": [
        {
          "output_type": "stream",
          "name": "stdout",
          "text": [
            "(3,)\n",
            "int16\n",
            "[-3 -3 -3]\n"
          ]
        }
      ]
    },
    {
      "cell_type": "markdown",
      "source": [
        "### 2. Intrinsic NumPy array creation functions\n",
        "<p align=\"justify\">\n",
        "NumPy has over 40 built-in functions for creating arrays. These functions can be split into roughly three categories, based on the dimension of the array they create:\n",
        "<p>\n",
        "\n",
        "\n",
        "*   1D Arrays => e.g. np.linspace and np.arange\n",
        "*   2D Arrays => e.g. np.eye, np.diag, and np.vander\n",
        "*   nD Arrays =>  e.g. np.ones, np.zeros, and np.random\n"
      ],
      "metadata": {
        "id": "Cvt5-JBX2n7X"
      }
    },
    {
      "cell_type": "code",
      "source": [
        "# 1D Arrays\n",
        "# np.arange creates arrays with regularly incrementing values.\n",
        "# np.arange( [start, ] stop, [step, ] dtype=None, *, like=None)\n",
        "a = np.arange( 10)\n",
        "print(a)\n",
        "b = np.arange( 2, 10, dtype=float)\n",
        "print(b)\n",
        "c = np.arange( 2, 3, 0.1)\n",
        "print(c)"
      ],
      "metadata": {
        "colab": {
          "base_uri": "https://localhost:8080/"
        },
        "id": "g5fpLKXXzb1-",
        "outputId": "21b58568-5241-4da5-f60f-bc1c5136c805"
      },
      "execution_count": 46,
      "outputs": [
        {
          "output_type": "stream",
          "name": "stdout",
          "text": [
            "[0 1 2 3 4 5 6 7 8 9]\n",
            "[2. 3. 4. 5. 6. 7. 8. 9.]\n",
            "[2.  2.1 2.2 2.3 2.4 2.5 2.6 2.7 2.8 2.9]\n"
          ]
        }
      ]
    },
    {
      "cell_type": "code",
      "source": [
        "# linspace( start, stop, num=50, endpoint=True, retstep=False, dtype=None, axis=0)\n"
      ],
      "metadata": {
        "id": "6Yt42oPUI-0U"
      },
      "execution_count": null,
      "outputs": []
    },
    {
      "cell_type": "code",
      "source": [
        "np.ones()"
      ],
      "metadata": {
        "id": "HGIImsQGzfvb"
      },
      "execution_count": null,
      "outputs": []
    },
    {
      "cell_type": "code",
      "source": [
        "np.empty()"
      ],
      "metadata": {
        "id": "mSForqxzzixx"
      },
      "execution_count": null,
      "outputs": []
    },
    {
      "cell_type": "code",
      "source": [
        "np.arange()"
      ],
      "metadata": {
        "id": "k5zSG-lkzlTX"
      },
      "execution_count": null,
      "outputs": []
    },
    {
      "cell_type": "code",
      "source": [
        "np.linspace()"
      ],
      "metadata": {
        "id": "XeB66wfhznhJ"
      },
      "execution_count": null,
      "outputs": []
    }
  ]
}